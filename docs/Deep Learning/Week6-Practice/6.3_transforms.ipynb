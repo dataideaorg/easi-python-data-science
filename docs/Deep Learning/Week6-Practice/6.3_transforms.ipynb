{
 "cells": [
  {
   "cell_type": "markdown",
   "metadata": {},
   "source": [
    "---\n",
    "author: Juma Shafara\n",
    "date: \"2024-09-04\"\n",
    "title: Transform Practice\n",
    "keywords: [Training Two Parameter, Mini-Batch Gradient Decent, Training Two Parameter Mini-Batch Gradient Decent]\n",
    "description: In this lab, you will review how to make a prediction in several different ways by using PyTorch.\n",
    "---"
   ]
  },
  {
   "cell_type": "markdown",
   "metadata": {},
   "source": [
    "![Photo by DATAIDEA](../../assets/banner4.png)"
   ]
  },
  {
   "cell_type": "markdown",
   "metadata": {},
   "source": [
    "## Transforms"
   ]
  },
  {
   "cell_type": "code",
   "execution_count": 1,
   "metadata": {},
   "outputs": [],
   "source": [
    "import dataidea_science as ds\n",
    "import torch\n",
    "from torch.utils.data import Dataset\n",
    "from torch.utils.data import DataLoader"
   ]
  },
  {
   "cell_type": "code",
   "execution_count": 2,
   "metadata": {},
   "outputs": [],
   "source": [
    "boston_ = ds.loadDataset('boston')"
   ]
  },
  {
   "cell_type": "markdown",
   "metadata": {},
   "source": [
    "## Custom Dataset"
   ]
  },
  {
   "cell_type": "code",
   "execution_count": 3,
   "metadata": {},
   "outputs": [],
   "source": [
    "class BostonDataset(Dataset): \n",
    "\n",
    "    def __init__(self, transform=None):\n",
    "        # define our dataset\n",
    "        self.data = boston_\n",
    "        self.x = self.data.drop('MEDV', axis=1).values\n",
    "        self.y = self.data.MEDV.values\n",
    "        self.samples = self.data.shape[0]\n",
    "        self.transform = transform\n",
    "\n",
    "    def __getitem__(self, index):\n",
    "        # access samples\n",
    "        sample = (self.x[index], self.y[index])\n",
    "\n",
    "        if self.transform:\n",
    "            sample = self.transform(sample)\n",
    "\n",
    "        return sample\n",
    "    \n",
    "    def __len__(self):\n",
    "        # len(dataset)\n",
    "        return self.samples"
   ]
  },
  {
   "cell_type": "code",
   "execution_count": 4,
   "metadata": {},
   "outputs": [
    {
     "name": "stdout",
     "output_type": "stream",
     "text": [
      "Row 1 Features: [2.7310e-02 0.0000e+00 7.0700e+00 0.0000e+00 4.6900e-01 6.4210e+00\n",
      " 7.8900e+01 4.9671e+00 2.0000e+00 2.4200e+02 1.7800e+01 3.9690e+02\n",
      " 9.1400e+00]\n",
      "Row 1 Outcome: 21.6\n",
      "Total Samples:  506\n"
     ]
    }
   ],
   "source": [
    "boston_dataset = BostonDataset()\n",
    "\n",
    "row_1 = boston_dataset[1]\n",
    "print('Row 1 Features:', row_1[0])\n",
    "print('Row 1 Outcome:', row_1[1])\n",
    "\n",
    "length_ = len(boston_dataset)\n",
    "print('Total Samples: ', length_)"
   ]
  },
  {
   "cell_type": "markdown",
   "metadata": {},
   "source": [
    "## DataLoader"
   ]
  },
  {
   "cell_type": "code",
   "execution_count": 5,
   "metadata": {},
   "outputs": [],
   "source": [
    "boston_dataloader = DataLoader(dataset=boston_dataset,\n",
    "                               batch_size=3,\n",
    "                               shuffle=True,\n",
    "                               num_workers=2)"
   ]
  },
  {
   "cell_type": "code",
   "execution_count": 6,
   "metadata": {},
   "outputs": [
    {
     "name": "stdout",
     "output_type": "stream",
     "text": [
      "Batch: 0:\n",
      "Data: tensor([[9.7617e-01, 0.0000e+00, 2.1890e+01, 0.0000e+00, 6.2400e-01, 5.7570e+00,\n",
      "         9.8400e+01, 2.3460e+00, 4.0000e+00, 4.3700e+02, 2.1200e+01, 2.6276e+02,\n",
      "         1.7310e+01],\n",
      "        [2.9090e-01, 0.0000e+00, 2.1890e+01, 0.0000e+00, 6.2400e-01, 6.1740e+00,\n",
      "         9.3600e+01, 1.6119e+00, 4.0000e+00, 4.3700e+02, 2.1200e+01, 3.8808e+02,\n",
      "         2.4160e+01],\n",
      "        [5.5007e-01, 2.0000e+01, 3.9700e+00, 0.0000e+00, 6.4700e-01, 7.2060e+00,\n",
      "         9.1600e+01, 1.9301e+00, 5.0000e+00, 2.6400e+02, 1.3000e+01, 3.8789e+02,\n",
      "         8.1000e+00]], dtype=torch.float64)\n",
      "Labels: tensor([15.6000, 14.0000, 36.5000], dtype=torch.float64)\n"
     ]
    }
   ],
   "source": [
    "\n",
    "for batch_no, (x, y) in enumerate(boston_dataloader):\n",
    "    print(f'Batch: {batch_no}:')\n",
    "    print(f'Data: {x}')\n",
    "    print(f'Labels: {y}')\n",
    "\n",
    "    if batch_no == 0:\n",
    "        break"
   ]
  },
  {
   "cell_type": "markdown",
   "metadata": {},
   "source": [
    "## Transformer"
   ]
  },
  {
   "cell_type": "code",
   "execution_count": 8,
   "metadata": {},
   "outputs": [],
   "source": [
    "class TensorTransformer:\n",
    "\n",
    "    def __init__(self, dtype=torch.float32):\n",
    "        self.dtype = dtype\n",
    "\n",
    "    def __call__(self, sample):\n",
    "        x_tensor = torch.tensor(data=sample[0], dtype=self.dtype)\n",
    "        y_tensor = torch.tensor(data=sample[1], dtype=self.dtype)\n",
    "        return x_tensor, y_tensor"
   ]
  },
  {
   "cell_type": "code",
   "execution_count": 9,
   "metadata": {},
   "outputs": [
    {
     "name": "stdout",
     "output_type": "stream",
     "text": [
      "Row 1 Features: tensor([2.7310e-02, 0.0000e+00, 7.0700e+00, 0.0000e+00, 4.6900e-01, 6.4210e+00,\n",
      "        7.8900e+01, 4.9671e+00, 2.0000e+00, 2.4200e+02, 1.7800e+01, 3.9690e+02,\n",
      "        9.1400e+00])\n",
      "Row 1 Outcome: tensor(21.6000)\n"
     ]
    }
   ],
   "source": [
    "boston_dataset = BostonDataset(transform=TensorTransformer())\n",
    "\n",
    "row_1 = boston_dataset[1]\n",
    "print('Row 1 Features:', row_1[0])\n",
    "print('Row 1 Outcome:', row_1[1])"
   ]
  },
  {
   "cell_type": "code",
   "execution_count": null,
   "metadata": {},
   "outputs": [],
   "source": []
  }
 ],
 "metadata": {
  "kernelspec": {
   "display_name": "base",
   "language": "python",
   "name": "python3"
  },
  "language_info": {
   "codemirror_mode": {
    "name": "ipython",
    "version": 3
   },
   "file_extension": ".py",
   "mimetype": "text/x-python",
   "name": "python",
   "nbconvert_exporter": "python",
   "pygments_lexer": "ipython3",
   "version": "3.12.3"
  }
 },
 "nbformat": 4,
 "nbformat_minor": 2
}
