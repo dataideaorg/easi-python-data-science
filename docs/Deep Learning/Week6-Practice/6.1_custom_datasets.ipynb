{
 "cells": [
  {
   "cell_type": "markdown",
   "metadata": {},
   "source": [
    "---\n",
    "author: Juma Shafara\n",
    "date: \"2024-09-04\"\n",
    "title: Custom Datasets Practice\n",
    "keywords: [Training Two Parameter, Mini-Batch Gradient Decent, Training Two Parameter Mini-Batch Gradient Decent]\n",
    "description: In this lab, you will review how to make a prediction in several different ways by using PyTorch.\n",
    "---"
   ]
  },
  {
   "cell_type": "markdown",
   "metadata": {},
   "source": [
    "![Photo by DATAIDEA](../../assets/banner4.png)"
   ]
  },
  {
   "cell_type": "code",
   "execution_count": 1,
   "metadata": {},
   "outputs": [],
   "source": [
    "import pandas as pd\n",
    "import dataidea_science as ds\n",
    "import torch\n",
    "from torch.utils.data import Dataset\n",
    "from torch.utils.data import DataLoader"
   ]
  },
  {
   "cell_type": "code",
   "execution_count": 2,
   "metadata": {},
   "outputs": [],
   "source": [
    "boston_ = ds.loadDataset('boston')"
   ]
  },
  {
   "cell_type": "markdown",
   "metadata": {},
   "source": [
    "## Custom Dataset Class"
   ]
  },
  {
   "cell_type": "code",
   "execution_count": 3,
   "metadata": {},
   "outputs": [],
   "source": [
    "class BostonDataset(Dataset): \n",
    "\n",
    "    def __init__(self):\n",
    "        # define our dataset\n",
    "        self.data = boston_\n",
    "        self.x = torch.tensor(self.data.drop('MEDV', axis=1).values, dtype=torch.float32)\n",
    "        self.y = torch.tensor(self.data.MEDV.values, dtype=torch.float32)\n",
    "        self.samples = self.data.shape[0]\n",
    "\n",
    "    def __getitem__(self, index):\n",
    "        # access samples\n",
    "        return self.x[index], self.y[index]\n",
    "    \n",
    "    def __len__(self):\n",
    "        # len(dataset)\n",
    "        return self.samples"
   ]
  },
  {
   "cell_type": "code",
   "execution_count": 4,
   "metadata": {},
   "outputs": [
    {
     "name": "stdout",
     "output_type": "stream",
     "text": [
      "Row 1 Features: tensor([2.7310e-02, 0.0000e+00, 7.0700e+00, 0.0000e+00, 4.6900e-01, 6.4210e+00,\n",
      "        7.8900e+01, 4.9671e+00, 2.0000e+00, 2.4200e+02, 1.7800e+01, 3.9690e+02,\n",
      "        9.1400e+00])\n",
      "Row 1 Outcome: tensor(21.6000)\n",
      "Total Samples:  506\n"
     ]
    }
   ],
   "source": [
    "boston_dataset = BostonDataset()\n",
    "\n",
    "row_1 = boston_dataset[1]\n",
    "print('Row 1 Features:', row_1[0])\n",
    "print('Row 1 Outcome:', row_1[1])\n",
    "\n",
    "length_ = len(boston_dataset)\n",
    "print('Total Samples: ', length_)"
   ]
  }
 ],
 "metadata": {
  "kernelspec": {
   "display_name": "base",
   "language": "python",
   "name": "python3"
  },
  "language_info": {
   "codemirror_mode": {
    "name": "ipython",
    "version": 3
   },
   "file_extension": ".py",
   "mimetype": "text/x-python",
   "name": "python",
   "nbconvert_exporter": "python",
   "pygments_lexer": "ipython3",
   "version": "3.12.3"
  }
 },
 "nbformat": 4,
 "nbformat_minor": 2
}
