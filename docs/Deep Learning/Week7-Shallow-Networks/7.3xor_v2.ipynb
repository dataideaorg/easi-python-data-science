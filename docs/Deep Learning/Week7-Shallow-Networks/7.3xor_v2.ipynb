{
  "cells": [
    {
      "cell_type": "markdown",
      "metadata": {},
      "source": [
        "---\n",
        "author: Juma Shafara\n",
        "date: \"2024-08-12\"\n",
        "title: Noisy XO\n",
        "keywords: [Training Two Parameter, Mini-Batch Gradient Decent, Training Two Parameter Mini-Batch Gradient Decent]\n",
        "description: In this lab, you will see how many neurons it takes to classify noisy XOR data with one hidden layer neural network.\n",
        "---\n",
        "\n",
        "![Photo by DATAIDEA](../../assets/banner4.png)"
      ]
    },
    {
      "cell_type": "markdown",
      "metadata": {},
      "source": [
        "<h2>Practice: Neural Networks with One Hidden Layer: Noisy XOR</h2>\n"
      ]
    },
    {
      "cell_type": "markdown",
      "metadata": {},
      "source": [
        "<h2>Objective</h2><ul class=\"cursored-list\"><li><i class=\"bi bi-cursor\"></i> How to create a neural network model with multiple neurons.</li></ul> \n"
      ]
    },
    {
      "cell_type": "markdown",
      "metadata": {},
      "source": [
        "<h2>Table of Contents</h2>\n",
        "<p>In this lab, you will see how many neurons it takes to classify noisy XOR data with one hidden layer neural network.</p>\n",
        "\n",
        "<ul class=\"cursored-list\">\n",
        "    <li><a href=\"#Model\"><i class=\"bi bi-cursor\"></i> Neural Network Module and Training Function</a></li>\n",
        "    <li><a href=\"#Makeup_Data\"><i class=\"bi bi-cursor\"></i> Make Some Data</a></li>\n",
        "    <li><a href=\"#One\"><i class=\"bi bi-cursor\"></i> One Neuron</a></li>\n",
        "    <li><a href=\"#Two\"><i class=\"bi bi-cursor\"></i> Two Neurons</a></li>\n",
        "    <li><a href=\"#Three\"><i class=\"bi bi-cursor\"></i> Three Neurons</a></li>\n",
        "</ul>\n",
        "<p>Estimated Time Needed: <strong>25 min</strong></p>\n",
        "<hr>\n"
      ]
    },
    {
      "cell_type": "markdown",
      "metadata": {},
      "source": [
        "<!-- Newsletter -->\n",
        "<div class=\"newsletter\">\n",
        "<div class=\"newsletter-heading\">\n",
        "<h4><i class=\"bi bi-info-circle-fill\"></i> Don't Miss Any Updates!</h4>\n",
        "</div>\n",
        "<div class=\"newsletter-body\">\n",
        "<p>\n",
        "Before we continue, I have a humble request, to be among the first to hear about future updates of the course materials, simply enter your email below, follow us on <a href=\"https://x.com/dataideaorg\"><i class=\"bi bi-twitter-x\"></i>\n",
        "(formally Twitter)</a>, or subscribe to our <a href=\"https://www.youtube.com/@dataidea-science\"><i class=\"bi bi-youtube\"></i> YouTube channel</a>.\n",
        "</p>\n",
        "<iframe class=\"newsletter-frame\" src=\"https://embeds.beehiiv.com/5fc7c425-9c7e-4e08-a514-ad6c22beee74?slim=true\" data-test-id=\"beehiiv-embed\" height=\"52\" frameborder=\"0\" scrolling=\"no\">\n",
        "</iframe>\n",
        "</div>\n",
        "</div>"
      ]
    },
    {
      "cell_type": "markdown",
      "metadata": {},
      "source": [
        "<h2>Preparation</h2>\n"
      ]
    },
    {
      "cell_type": "markdown",
      "metadata": {},
      "source": [
        "We'll need the following libraries\n"
      ]
    },
    {
      "cell_type": "code",
      "execution_count": null,
      "metadata": {},
      "outputs": [],
      "source": [
        "# Import the libraries we need for this lab\n",
        "\n",
        "\n",
        "\n",
        "import numpy as np\n",
        "import torch\n",
        "import torch.nn as nn\n",
        "import torch.nn.functional as F\n",
        "import matplotlib.pyplot as plt \n",
        "from matplotlib.colors import ListedColormap\n",
        "from torch.utils.data import Dataset, DataLoader"
      ]
    },
    {
      "cell_type": "markdown",
      "metadata": {},
      "source": [
        "Use the following function to plot the data: \n"
      ]
    },
    {
      "cell_type": "code",
      "execution_count": null,
      "metadata": {},
      "outputs": [],
      "source": [
        "# Plot the data\n",
        "\n",
        "def plot_decision_regions_2class(model,data_set):\n",
        "    cmap_light = ListedColormap(['#FFAAAA', '#AAFFAA', '#00AAFF'])\n",
        "    cmap_bold = ListedColormap(['#FF0000', '#00FF00', '#00AAFF'])\n",
        "    X = data_set.x.numpy()\n",
        "    y = data_set.y.numpy()\n",
        "    h = .02\n",
        "    x_min, x_max = X[:, 0].min() - 0.1 , X[:, 0].max() + 0.1 \n",
        "    y_min, y_max = X[:, 1].min() - 0.1 , X[:, 1].max() + 0.1 \n",
        "    xx, yy = np.meshgrid(np.arange(x_min, x_max, h),np.arange(y_min, y_max, h))\n",
        "    XX = torch.Tensor(np.c_[xx.ravel(), yy.ravel()])\n",
        "\n",
        "    yhat = np.logical_not((model(XX)[:, 0] > 0.5).numpy()).reshape(xx.shape)\n",
        "    plt.pcolormesh(xx, yy, yhat, cmap=cmap_light)\n",
        "    plt.plot(X[y[:, 0] == 0, 0], X[y[:, 0] == 0, 1], 'o', label='y=0')\n",
        "    plt.plot(X[y[:, 0] == 1, 0], X[y[:, 0] == 1, 1], 'ro', label='y=1')\n",
        "    plt.title(\"decision region\")\n",
        "    plt.legend()"
      ]
    },
    {
      "cell_type": "markdown",
      "metadata": {},
      "source": [
        "Use the following function to calculate accuracy: \n"
      ]
    },
    {
      "cell_type": "code",
      "execution_count": null,
      "metadata": {},
      "outputs": [],
      "source": [
        "# Calculate the accuracy\n",
        "\n",
        "def accuracy(model, data_set):\n",
        "    return np.mean(data_set.y.view(-1).numpy() == (model(data_set.x)[:, 0] > 0.5).numpy())"
      ]
    },
    {
      "cell_type": "markdown",
      "metadata": {},
      "source": [
        "<!--Empty Space for separating topics-->\n"
      ]
    },
    {
      "cell_type": "markdown",
      "metadata": {},
      "source": [
        "<h2 id=\"Model\">Neural Network Module and Training Function</h2> \n"
      ]
    },
    {
      "cell_type": "markdown",
      "metadata": {},
      "source": [
        "Define the neural network module or class: \n"
      ]
    },
    {
      "cell_type": "code",
      "execution_count": null,
      "metadata": {},
      "outputs": [],
      "source": [
        "# Define the class Net with one hidden layer \n",
        "\n",
        "class Net(nn.Module):\n",
        "    \n",
        "    # Constructor\n",
        "    def __init__(self, D_in, H, D_out):\n",
        "        super(Net, self).__init__()\n",
        "        #hidden layer \n",
        "        self.linear1 = nn.Linear(D_in, H)\n",
        "        #output layer \n",
        "        self.linear2 = nn.Linear(H, D_out)\n",
        "\n",
        "    # Prediction    \n",
        "    def forward(self, x):\n",
        "        x = torch.sigmoid(self.linear1(x))  \n",
        "        x = torch.sigmoid(self.linear2(x))\n",
        "        return x"
      ]
    },
    {
      "cell_type": "markdown",
      "metadata": {},
      "source": [
        "Define a function to train the model: \n"
      ]
    },
    {
      "cell_type": "code",
      "execution_count": null,
      "metadata": {},
      "outputs": [],
      "source": [
        "# Define the train model\n",
        "\n",
        "def train(data_set, model, criterion, train_loader, optimizer, epochs=5):\n",
        "    COST = []\n",
        "    ACC = []\n",
        "    for epoch in range(epochs):\n",
        "        total=0\n",
        "        for x, y in train_loader:\n",
        "            optimizer.zero_grad()\n",
        "            yhat = model(x)\n",
        "            loss = criterion(yhat, y)\n",
        "            optimizer.zero_grad()\n",
        "            loss.backward()\n",
        "            optimizer.step()\n",
        "            #cumulative loss \n",
        "            total+=loss.item()\n",
        "        ACC.append(accuracy(model, data_set))\n",
        "        COST.append(total)\n",
        "        \n",
        "    fig, ax1 = plt.subplots()\n",
        "    color = 'tab:red'\n",
        "    ax1.plot(COST, color=color)\n",
        "    ax1.set_xlabel('epoch', color=color)\n",
        "    ax1.set_ylabel('total loss', color=color)\n",
        "    ax1.tick_params(axis='y', color=color)\n",
        "    \n",
        "    ax2 = ax1.twinx()  \n",
        "    color = 'tab:blue'\n",
        "    ax2.set_ylabel('accuracy', color=color)  # we already handled the x-label with ax1\n",
        "    ax2.plot(ACC, color=color)\n",
        "    ax2.tick_params(axis='y', color=color)\n",
        "    fig.tight_layout()  # otherwise the right y-label is slightly clipped\n",
        "    \n",
        "    plt.show()\n",
        "\n",
        "    return COST"
      ]
    },
    {
      "cell_type": "markdown",
      "metadata": {},
      "source": [
        "<!--Empty Space for separating topics-->\n"
      ]
    },
    {
      "cell_type": "markdown",
      "metadata": {},
      "source": [
        "<h2 id=\"Makeup_Data\">Make Some Data</h2> \n"
      ]
    },
    {
      "cell_type": "markdown",
      "metadata": {},
      "source": [
        "Dataset class:\n"
      ]
    },
    {
      "cell_type": "code",
      "execution_count": null,
      "metadata": {},
      "outputs": [],
      "source": [
        "# Define the class XOR_Data\n",
        "\n",
        "class XOR_Data(Dataset):\n",
        "    \n",
        "    # Constructor\n",
        "    def __init__(self, N_s=100):\n",
        "        self.x = torch.zeros((N_s, 2))\n",
        "        self.y = torch.zeros((N_s, 1))\n",
        "        for i in range(N_s // 4):\n",
        "            self.x[i, :] = torch.Tensor([0.0, 0.0]) \n",
        "            self.y[i, 0] = torch.Tensor([0.0])\n",
        "\n",
        "            self.x[i + N_s // 4, :] = torch.Tensor([0.0, 1.0])\n",
        "            self.y[i + N_s // 4, 0] = torch.Tensor([1.0])\n",
        "    \n",
        "            self.x[i + N_s // 2, :] = torch.Tensor([1.0, 0.0])\n",
        "            self.y[i + N_s // 2, 0] = torch.Tensor([1.0])\n",
        "    \n",
        "            self.x[i + 3 * N_s // 4, :] = torch.Tensor([1.0, 1.0])\n",
        "            self.y[i + 3 * N_s // 4, 0] = torch.Tensor([0.0])\n",
        "\n",
        "            self.x = self.x + 0.01 * torch.randn((N_s, 2))\n",
        "        self.len = N_s\n",
        "\n",
        "    # Getter\n",
        "    def __getitem__(self, index):    \n",
        "        return self.x[index],self.y[index]\n",
        "    \n",
        "    # Get Length\n",
        "    def __len__(self):\n",
        "        return self.len\n",
        "    \n",
        "    # Plot the data\n",
        "    def plot_stuff(self):\n",
        "        plt.plot(self.x[self.y[:, 0] == 0, 0].numpy(), self.x[self.y[:, 0] == 0, 1].numpy(), 'o', label=\"y=0\")\n",
        "        plt.plot(self.x[self.y[:, 0] == 1, 0].numpy(), self.x[self.y[:, 0] == 1, 1].numpy(), 'ro', label=\"y=1\")\n",
        "        plt.legend()"
      ]
    },
    {
      "cell_type": "markdown",
      "metadata": {},
      "source": [
        "Dataset object:\n"
      ]
    },
    {
      "cell_type": "code",
      "execution_count": null,
      "metadata": {},
      "outputs": [],
      "source": [
        "# Create dataset object\n",
        "\n",
        "data_set = XOR_Data()\n",
        "data_set.plot_stuff()"
      ]
    },
    {
      "cell_type": "markdown",
      "metadata": {},
      "source": [
        "<!--Empty Space for separating topics-->\n"
      ]
    },
    {
      "cell_type": "markdown",
      "metadata": {},
      "source": [
        "<h2 id=\"One\">One Neuron</h2> \n"
      ]
    },
    {
      "cell_type": "markdown",
      "metadata": {},
      "source": [
        "<h3>Try</h3>\n"
      ]
    },
    {
      "cell_type": "markdown",
      "metadata": {},
      "source": [
        "Create a neural network <code>model</code> with one neuron. Then, use the following code to train it:\n"
      ]
    },
    {
      "cell_type": "code",
      "execution_count": null,
      "metadata": {},
      "outputs": [],
      "source": [
        "# Practice: create a model with one neuron\n",
        "\n",
        "# Type your code here"
      ]
    },
    {
      "cell_type": "markdown",
      "metadata": {},
      "source": [
        "Double-click <b>here</b> for the solution.\n",
        "\n",
        "<!-- \n",
        "model = Net(2, 1, 1)\n",
        "-->\n"
      ]
    },
    {
      "cell_type": "code",
      "execution_count": null,
      "metadata": {},
      "outputs": [],
      "source": [
        "# Train the model\n",
        "\n",
        "learning_rate = 0.001\n",
        "criterion = nn.BCELoss()\n",
        "optimizer = torch.optim.SGD(model.parameters(), lr=learning_rate)\n",
        "train_loader = DataLoader(dataset=data_set, batch_size=1)\n",
        "LOSS12 = train(data_set, model, criterion, train_loader, optimizer, epochs=500)\n",
        "plot_decision_regions_2class(model, data_set)"
      ]
    },
    {
      "cell_type": "markdown",
      "metadata": {},
      "source": [
        "<!--Empty Space for separating topics-->\n"
      ]
    },
    {
      "cell_type": "markdown",
      "metadata": {},
      "source": [
        "<h2 id=\"Two\">Two Neurons</h2> \n"
      ]
    },
    {
      "cell_type": "markdown",
      "metadata": {},
      "source": [
        "<h3>Try</h3>\n"
      ]
    },
    {
      "cell_type": "markdown",
      "metadata": {},
      "source": [
        "Create a neural network <code>model</code> with two neurons. Then, use the following code to train it:\n"
      ]
    },
    {
      "cell_type": "code",
      "execution_count": null,
      "metadata": {},
      "outputs": [],
      "source": [
        "# Practice: create a model with two neuron\n",
        "\n",
        "# Type your code here"
      ]
    },
    {
      "cell_type": "markdown",
      "metadata": {},
      "source": [
        "Double-click <b>here</b> for the solution.\n",
        "\n",
        "<!-- \n",
        "model = Net(2, 2, 1)\n",
        "-->\n"
      ]
    },
    {
      "cell_type": "code",
      "execution_count": null,
      "metadata": {},
      "outputs": [],
      "source": [
        "# Train the model\n",
        "\n",
        "learning_rate = 0.1\n",
        "criterion = nn.BCELoss()\n",
        "optimizer = torch.optim.SGD(model.parameters(), lr=learning_rate)\n",
        "train_loader = DataLoader(dataset=data_set, batch_size=1)\n",
        "LOSS12 = train(data_set, model, criterion, train_loader, optimizer, epochs=500)\n",
        "plot_decision_regions_2class(model, data_set)"
      ]
    },
    {
      "cell_type": "markdown",
      "metadata": {},
      "source": [
        "<!--Empty Space for separating topics-->\n"
      ]
    },
    {
      "cell_type": "markdown",
      "metadata": {},
      "source": [
        "<h2 id=\"Three\">Three Neurons</h2> \n"
      ]
    },
    {
      "cell_type": "markdown",
      "metadata": {},
      "source": [
        "<h3>Try</h3>\n"
      ]
    },
    {
      "cell_type": "markdown",
      "metadata": {},
      "source": [
        "Create a neural network <code>model</code> with three neurons. Then, use the following code to train it:\n"
      ]
    },
    {
      "cell_type": "code",
      "execution_count": null,
      "metadata": {},
      "outputs": [],
      "source": [
        "# Practice: create a model with two neuron\n",
        "model = Net(2, 4, 1)\n",
        "# Type your code here"
      ]
    },
    {
      "cell_type": "markdown",
      "metadata": {},
      "source": [
        "Double-click <b>here</b> for the solution.\n",
        "\n",
        "<!-- \n",
        "model = Net(2, 4, 1)\n",
        "-->\n"
      ]
    },
    {
      "cell_type": "code",
      "execution_count": null,
      "metadata": {},
      "outputs": [],
      "source": [
        "# Train the model\n",
        "\n",
        "learning_rate = 0.1\n",
        "criterion = nn.BCELoss()\n",
        "optimizer = torch.optim.SGD(model.parameters(), lr=learning_rate)\n",
        "train_loader = DataLoader(dataset=data_set, batch_size=1)\n",
        "LOSS12 = train(data_set, model, criterion, train_loader, optimizer, epochs=500)\n",
        "plot_decision_regions_2class(model, data_set)\n"
      ]
    },
    {
      "cell_type": "markdown",
      "metadata": {},
      "source": [
        "<h2>What's on your mind? Put it in the comments!</h2>\n",
        "<script src=\"https://utteranc.es/client.js\"\n",
        "        repo=\"dataideaorg/dataidea-science\"\n",
        "        issue-term=\"pathname\"\n",
        "        theme=\"github-light\"\n",
        "        crossorigin=\"anonymous\"\n",
        "        async>\n",
        "</script>"
      ]
    }
  ],
  "metadata": {
    "kernelspec": {
      "display_name": "Python",
      "language": "python",
      "name": "conda-env-python-py"
    },
    "language_info": {
      "codemirror_mode": {
        "name": "ipython",
        "version": 3
      },
      "file_extension": ".py",
      "mimetype": "text/x-python",
      "name": "python",
      "nbconvert_exporter": "python",
      "pygments_lexer": "ipython3",
      "version": "3.7.12"
    }
  },
  "nbformat": 4,
  "nbformat_minor": 4
}
